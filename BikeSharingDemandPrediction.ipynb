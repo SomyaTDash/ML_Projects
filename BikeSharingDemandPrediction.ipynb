{
 "cells": [
  {
   "cell_type": "code",
   "execution_count": null,
   "id": "9c35c156",
   "metadata": {},
   "outputs": [],
   "source": [
    "import warnings\n",
    "warnings.filterwarnings('ignore')"
   ]
  },
  {
   "cell_type": "code",
   "execution_count": null,
   "id": "11cb6e5d",
   "metadata": {},
   "outputs": [],
   "source": [
    "import pandas as pd\n",
    "import numpy as np\n",
    "import matplotlib.pyplot as plt\n",
    "import seaborn as sns"
   ]
  },
  {
   "cell_type": "code",
   "execution_count": null,
   "id": "684701eb",
   "metadata": {},
   "outputs": [],
   "source": [
    "dataset = pd.read_csv(\"daily_bike_share.csv\")"
   ]
  },
  {
   "cell_type": "code",
   "execution_count": null,
   "id": "47a4df81",
   "metadata": {},
   "outputs": [],
   "source": [
    "dataset.head()"
   ]
  },
  {
   "cell_type": "code",
   "execution_count": null,
   "id": "984b027d",
   "metadata": {},
   "outputs": [],
   "source": [
    "dataset.shape"
   ]
  },
  {
   "cell_type": "code",
   "execution_count": null,
   "id": "f7dbc69d",
   "metadata": {},
   "outputs": [],
   "source": [
    "dataset.columns"
   ]
  },
  {
   "cell_type": "code",
   "execution_count": null,
   "id": "3d40ab1b",
   "metadata": {},
   "outputs": [],
   "source": [
    "dataset.describe()"
   ]
  },
  {
   "cell_type": "code",
   "execution_count": null,
   "id": "8a310a1f",
   "metadata": {},
   "outputs": [],
   "source": [
    "dataset.info()"
   ]
  },
  {
   "cell_type": "code",
   "execution_count": null,
   "id": "9341c94c",
   "metadata": {},
   "outputs": [],
   "source": [
    "dataset.loc[(dataset['season'] == 1), 'season'] = 'spring'\n",
    "dataset.loc[(dataset['season'] == 2), 'season'] = 'summer'\n",
    "dataset.loc[(dataset['season'] == 3), 'season'] = 'fall'\n",
    "dataset.loc[(dataset['season'] == 4), 'season'] = 'winter'"
   ]
  },
  {
   "cell_type": "code",
   "execution_count": null,
   "id": "baf2cc5c",
   "metadata": {},
   "outputs": [],
   "source": [
    "dataset['season'].astype('category').value_counts()"
   ]
  },
  {
   "cell_type": "code",
   "execution_count": null,
   "id": "88105790",
   "metadata": {},
   "outputs": [],
   "source": [
    " dataset['year'].astype('category').value_counts()"
   ]
  },
  {
   "cell_type": "code",
   "execution_count": null,
   "id": "0702ebbd",
   "metadata": {},
   "outputs": [],
   "source": [
    "def object_map_mnths(x):\n",
    "    return x.map({1: 'Jan', 2: 'Feb',3: 'Mar',4: 'Apr',5: 'May',6: 'Jun',7: 'Jul',8: 'Aug',9: 'Sep',10: 'Oct',11: 'Nov',12: 'Dec'})"
   ]
  },
  {
   "cell_type": "code",
   "execution_count": null,
   "id": "6fa99bde",
   "metadata": {},
   "outputs": [],
   "source": [
    " dataset[['mnth']] = dataset[['mnth']].apply(object_map_mnths)"
   ]
  },
  {
   "cell_type": "code",
   "execution_count": null,
   "id": "61035069",
   "metadata": {},
   "outputs": [],
   "source": [
    " dataset['holiday'].astype('category').value_counts()"
   ]
  },
  {
   "cell_type": "code",
   "execution_count": null,
   "id": "db8c98c5",
   "metadata": {},
   "outputs": [],
   "source": [
    "def str_map_weekday(x):\n",
    "    return x.map({1:'Mon', 2:'Tue', 3:'Wed', 4:'Thu', 5:'Fri', 6:'Sat', 7:'Sun'})"
   ]
  },
  {
   "cell_type": "code",
   "execution_count": null,
   "id": "3013052c",
   "metadata": {},
   "outputs": [],
   "source": [
    " dataset[['weekday']] = dataset[['weekday']].apply(str_map_weekday)"
   ]
  },
  {
   "cell_type": "code",
   "execution_count": null,
   "id": "96417e2b",
   "metadata": {},
   "outputs": [],
   "source": [
    " dataset['weekday'].astype('category').value_counts()"
   ]
  },
  {
   "cell_type": "code",
   "execution_count": null,
   "id": "5019472e",
   "metadata": {},
   "outputs": [],
   "source": [
    " dataset['workingday'].astype('category').value_counts()"
   ]
  },
  {
   "cell_type": "code",
   "execution_count": null,
   "id": "ed98f024",
   "metadata": {},
   "outputs": [],
   "source": [
    "dataset.loc[(dataset['weathersit'] == 1), 'weathersit'] = 'A'\n",
    "dataset.loc[(dataset['weathersit'] == 2), 'weathersit'] = 'B'\n",
    "dataset.loc[(dataset['weathersit'] == 3), 'weathersit'] = 'C'"
   ]
  },
  {
   "cell_type": "code",
   "execution_count": null,
   "id": "1e53c6a9",
   "metadata": {},
   "outputs": [],
   "source": [
    " dataset['weathersit'].astype('category').value_counts()"
   ]
  },
  {
   "cell_type": "code",
   "execution_count": null,
   "id": "359c67e9",
   "metadata": {},
   "outputs": [],
   "source": [
    "sns.distplot(dataset['temp'])"
   ]
  },
  {
   "cell_type": "code",
   "execution_count": null,
   "id": "982b721f",
   "metadata": {},
   "outputs": [],
   "source": [
    "sns.distplot(dataset['atemp'])\n",
    "plt.show()"
   ]
  },
  {
   "cell_type": "code",
   "execution_count": null,
   "id": "6ca63a71",
   "metadata": {},
   "outputs": [],
   "source": [
    "sns.distplot(dataset['windspeed'])\n",
    "plt.show()"
   ]
  },
  {
   "cell_type": "code",
   "execution_count": null,
   "id": "882a658a",
   "metadata": {},
   "outputs": [],
   "source": [
    "sns.distplot(dataset['rentals'])\n",
    "plt.show()"
   ]
  },
  {
   "cell_type": "code",
   "execution_count": null,
   "id": "37b4226c",
   "metadata": {},
   "outputs": [],
   "source": [
    "plt.figure(figsize=(20,20))\n",
    "plt.subplot(3,3,1)\n",
    "sns.boxplot(x = 'season' , y ='rentals', data=dataset)\n",
    "plt.subplot(3,3,2)\n",
    "sns.boxplot(x = 'mnth' , y ='rentals', data=dataset)\n",
    "plt.subplot(3,3,3)\n",
    "sns.boxplot(x = 'weekday' , y ='rentals', data=dataset)\n",
    "plt.subplot(3,3,4)\n",
    "sns.boxplot(x = 'weathersit' , y ='rentals', data=dataset)\n",
    "plt.subplot(3,3,5)\n",
    "sns.boxplot(x = 'workingday' , y ='rentals', data=dataset)\n",
    "plt.subplot(3,3,6)\n",
    "sns.boxplot(x = 'year' , y ='rentals', data=dataset)\n",
    "plt.subplot(3,3,7)\n",
    "sns.boxplot(x = 'holiday' , y ='rentals', data=dataset)"
   ]
  },
  {
   "cell_type": "code",
   "execution_count": null,
   "id": "9ff3a1c5",
   "metadata": {},
   "outputs": [],
   "source": [
    "dataset_numeric = dataset.select_dtypes(include=['float64'])\n",
    "dataset_numeric.head()"
   ]
  },
  {
   "cell_type": "code",
   "execution_count": null,
   "id": "065e9b0d",
   "metadata": {},
   "outputs": [],
   "source": [
    "sns.pairplot(dataset_numeric)\n",
    "plt.show()"
   ]
  },
  {
   "cell_type": "code",
   "execution_count": null,
   "id": "cf3cf697",
   "metadata": {},
   "outputs": [],
   "source": [
    "cor = dataset_numeric.corr()\n",
    "cor"
   ]
  },
  {
   "cell_type": "code",
   "execution_count": null,
   "id": "ee245ea4",
   "metadata": {},
   "outputs": [],
   "source": [
    "mask = np.array(cor)\n",
    "mask[np.tril_indices_from(mask)] = False\n",
    "fig, ax = plt.subplots()\n",
    "fig.set_size_inches(10,10)\n",
    "sns.heatmap(cor,mask=mask, vmax=1, square=True, annot=True)"
   ]
  },
  {
   "cell_type": "code",
   "execution_count": null,
   "id": "53f2e99f",
   "metadata": {},
   "outputs": [],
   "source": [
    "dataset.drop('atemp', axis=1, inplace=True)"
   ]
  },
  {
   "cell_type": "code",
   "execution_count": null,
   "id": "479a17e4",
   "metadata": {},
   "outputs": [],
   "source": [
    "dataset.head()"
   ]
  },
  {
   "cell_type": "code",
   "execution_count": null,
   "id": "e58fd228",
   "metadata": {},
   "outputs": [],
   "source": [
    "dataset_categorical = dataset.select_dtypes(include=['object'])"
   ]
  },
  {
   "cell_type": "code",
   "execution_count": null,
   "id": "46634dd9",
   "metadata": {},
   "outputs": [],
   "source": [
    "dataset_categorical.head()"
   ]
  },
  {
   "cell_type": "code",
   "execution_count": null,
   "id": "0d9cc055",
   "metadata": {},
   "outputs": [],
   "source": [
    "dataset_dummies = pd.get_dummies(dataset_categorical, drop_first = True)\n",
    "dataset_dummies.head()"
   ]
  },
  {
   "cell_type": "code",
   "execution_count": null,
   "id": "2a6e2779",
   "metadata": {},
   "outputs": [],
   "source": [
    "dataset = dataset.drop(list(dataset_categorical.columns), axis=1, errors='ignore')\n",
    "dataset"
   ]
  },
  {
   "cell_type": "code",
   "execution_count": null,
   "id": "b136cc5e",
   "metadata": {},
   "outputs": [],
   "source": [
    "dataset  = pd.concat([dataset, dataset_dummies], axis = 1)"
   ]
  },
  {
   "cell_type": "code",
   "execution_count": null,
   "id": "46b99004",
   "metadata": {},
   "outputs": [],
   "source": [
    "dataset.head()"
   ]
  },
  {
   "cell_type": "code",
   "execution_count": null,
   "id": "5d0e4f40",
   "metadata": {},
   "outputs": [],
   "source": [
    "dataset = dataset.drop(['instant', 'dteday'], axis=1, inplace=False, errors='ignore')\n",
    "dataset.head()"
   ]
  },
  {
   "cell_type": "code",
   "execution_count": null,
   "id": "4722acca",
   "metadata": {},
   "outputs": [],
   "source": [
    "from sklearn import linear_model\n",
    "from sklearn.linear_model import LinearRegression"
   ]
  },
  {
   "cell_type": "code",
   "execution_count": null,
   "id": "2adfeaab",
   "metadata": {},
   "outputs": [],
   "source": [
    "from sklearn.model_selection import train_test_split\n",
    "np.random.seed(0)\n",
    "df_train, df_test = train_test_split(dataset, train_size= 0.7, test_size=0.3, random_state=100 )"
   ]
  },
  {
   "cell_type": "code",
   "execution_count": null,
   "id": "25b4856c",
   "metadata": {},
   "outputs": [],
   "source": [
    "df_train"
   ]
  },
  {
   "cell_type": "code",
   "execution_count": null,
   "id": "a4de3889",
   "metadata": {},
   "outputs": [],
   "source": [
    "from sklearn.preprocessing import MinMaxScaler"
   ]
  },
  {
   "cell_type": "code",
   "execution_count": null,
   "id": "40ce8a80",
   "metadata": {},
   "outputs": [],
   "source": [
    "scaler = MinMaxScaler()"
   ]
  },
  {
   "cell_type": "code",
   "execution_count": null,
   "id": "7ea415bf",
   "metadata": {},
   "outputs": [],
   "source": [
    "var = [\"temp\",\"hum\",\"windspeed\",\"rentals\"]\n",
    "df_train[var] = scaler.fit_transform(df_train[var])"
   ]
  },
  {
   "cell_type": "code",
   "execution_count": null,
   "id": "e00d6b9f",
   "metadata": {},
   "outputs": [],
   "source": [
    "df_train.describe()"
   ]
  },
  {
   "cell_type": "code",
   "execution_count": null,
   "id": "8cd2d848",
   "metadata": {},
   "outputs": [],
   "source": [
    "plt.figure(figsize= (30,30))\n",
    "sns.heatmap(df_train.corr(),annot=True, cmap= \"YlGnBu\")\n",
    "plt.show()"
   ]
  },
  {
   "cell_type": "code",
   "execution_count": null,
   "id": "fa4f84f6",
   "metadata": {},
   "outputs": [],
   "source": [
    "x_train = df_train.drop([\"rentals\"],axis=1)\n",
    "y_train = df_train.pop('cnt')"
   ]
  },
  {
   "cell_type": "code",
   "execution_count": null,
   "id": "59977eff",
   "metadata": {},
   "outputs": [],
   "source": [
    "x_train.head()"
   ]
  },
  {
   "cell_type": "code",
   "execution_count": null,
   "id": "c3c24e37",
   "metadata": {},
   "outputs": [],
   "source": [
    "np.array(x_train)"
   ]
  },
  {
   "cell_type": "code",
   "execution_count": null,
   "id": "37964ec6",
   "metadata": {},
   "outputs": [],
   "source": [
    "import statsmodels.api as sm\n",
    "x_train_lm = sm.add_constant(x_train)\n",
    "\n",
    "lr = sm.OLS(y_train, x_train_lm).fit()"
   ]
  },
  {
   "cell_type": "code",
   "execution_count": null,
   "id": "510ef28c",
   "metadata": {},
   "outputs": [],
   "source": [
    "lr.params"
   ]
  },
  {
   "cell_type": "code",
   "execution_count": null,
   "id": "f0725bb7",
   "metadata": {},
   "outputs": [],
   "source": [
    "lm = LinearRegression()\n",
    "lm.fit(x_train, y_train)"
   ]
  },
  {
   "cell_type": "code",
   "execution_count": null,
   "id": "44883f71",
   "metadata": {},
   "outputs": [],
   "source": [
    "print(lm.coef_)\n",
    "print(lm.intercept_)"
   ]
  },
  {
   "cell_type": "code",
   "execution_count": null,
   "id": "cfab373e",
   "metadata": {},
   "outputs": [],
   "source": [
    "lr.summary()"
   ]
  },
  {
   "cell_type": "code",
   "execution_count": null,
   "id": "2ea27e62",
   "metadata": {},
   "outputs": [],
   "source": [
    "import sklearn.feature_selection import RFE"
   ]
  },
  {
   "cell_type": "code",
   "execution_count": null,
   "id": "593888cd",
   "metadata": {},
   "outputs": [],
   "source": [
    "lm = LinearRegression()\n",
    "rfe1 = RFE(lm, 15)\n",
    "\n",
    "rfe1.fit(x_train, y_train)\n",
    "print(rfe1,support_)\n",
    "print(rfe1,ranking_)"
   ]
  },
  {
   "cell_type": "code",
   "execution_count": null,
   "id": "8233968e",
   "metadata": {},
   "outputs": [],
   "source": [
    "col1 = x_train.columns[rfe1.support_]"
   ]
  },
  {
   "cell_type": "code",
   "execution_count": null,
   "id": "49c8cd5d",
   "metadata": {},
   "outputs": [],
   "source": [
    "col1"
   ]
  },
  {
   "cell_type": "code",
   "execution_count": null,
   "id": "5e722592",
   "metadata": {},
   "outputs": [],
   "source": [
    "x_train_rfe1 = x_train[col1]\n",
    "x_train_lm = sm.add_constant(x_train_rfe1)\n",
    "lm1 = sm.OLS(y_train, x_train_rfe1).fit()\n",
    "lm1.summary()"
   ]
  },
  {
   "cell_type": "code",
   "execution_count": null,
   "id": "b0a56679",
   "metadata": {},
   "outputs": [],
   "source": [
    "fromm statsmodels.stats.outliers_influence import varience_inflation_factor"
   ]
  },
  {
   "cell_type": "code",
   "execution_count": null,
   "id": "6dc25d24",
   "metadata": {},
   "outputs": [],
   "source": [
    "a = x_train_rfe1.drop('const', axis=1)"
   ]
  },
  {
   "cell_type": "code",
   "execution_count": null,
   "id": "2a1bbbd2",
   "metadata": {},
   "outputs": [],
   "source": [
    "vif = pd.DataFrame()\n",
    "vif['features'] = a.columns\n",
    "vif['VIF'] = [variance_inflation_factor(a.values, i) for i in range(a.shape[1])]\n",
    "vif['VIF'] = round(vif['VIF'], 2)\n",
    "vif = vif.sort_values(by = \"VIF\", ascending = False)\n",
    "vif"
   ]
  },
  {
   "cell_type": "code",
   "execution_count": null,
   "id": "d1242beb",
   "metadata": {},
   "outputs": [],
   "source": [
    "lm = LinearRegression()\n",
    "rfe2 = RFE(lm, 15)\n",
    "\n",
    "rfe2.fit(x_train, y_train)\n",
    "print(rfe2,support_)\n",
    "print(rfe2,ranking_)"
   ]
  },
  {
   "cell_type": "code",
   "execution_count": null,
   "id": "37107c47",
   "metadata": {},
   "outputs": [],
   "source": [
    "col2 = x_train.columns[rfe2.support_]\n",
    "\n",
    "x_train_rfe2 = x_train[col2]\n",
    "x_train_lm = sm.add_constant(x_train_rfe2)\n",
    "lm2 = sm.OLS(y_train, x_train_rfe2).fit()\n",
    "lm2.summary()"
   ]
  },
  {
   "cell_type": "code",
   "execution_count": null,
   "id": "b2b5c97c",
   "metadata": {},
   "outputs": [],
   "source": [
    "vif1 = pd.DataFrame()\n",
    "vif1['features'] = a.columns\n",
    "vif1['VIF'] = [variance_inflation_factor(a.values, i) for i in range(a.shape[1])]\n",
    "vif1['VIF'] = round(vif1['VIF'], 2)\n",
    "vif1 = vif1.sort_values(by = \"VIF\", ascending = False)\n",
    "vif1"
   ]
  },
  {
   "cell_type": "code",
   "execution_count": null,
   "id": "44e90cb1",
   "metadata": {},
   "outputs": [],
   "source": [
    "y_train_cnt = lm2.predict(x_train_rfe2)"
   ]
  },
  {
   "cell_type": "code",
   "execution_count": null,
   "id": "0a25ecf0",
   "metadata": {},
   "outputs": [],
   "source": [
    "fig = plt.figure()\n",
    "sns.distplot((y_train, y_train_cnt), bins=20)"
   ]
  },
  {
   "cell_type": "code",
   "execution_count": null,
   "id": "ddeb92a5",
   "metadata": {},
   "outputs": [],
   "source": [
    "df_test[var] = scaler.transform(df_test[var])"
   ]
  },
  {
   "cell_type": "code",
   "execution_count": null,
   "id": "1e78a40b",
   "metadata": {},
   "outputs": [],
   "source": [
    "y_test = df_test.pop('cnt')\n",
    "x_test = df_test.drop(\"rentals\")\n"
   ]
  },
  {
   "cell_type": "code",
   "execution_count": null,
   "id": "c43b405e",
   "metadata": {},
   "outputs": [],
   "source": [
    "x_test.head()"
   ]
  },
  {
   "cell_type": "code",
   "execution_count": null,
   "id": "6705376d",
   "metadata": {},
   "outputs": [],
   "source": [
    "c = x_train_rfe2.drop('const', axis=1)"
   ]
  },
  {
   "cell_type": "code",
   "execution_count": null,
   "id": "443388ab",
   "metadata": {},
   "outputs": [],
   "source": [
    "col2 = c.columns"
   ]
  },
  {
   "cell_type": "code",
   "execution_count": null,
   "id": "d7f25954",
   "metadata": {},
   "outputs": [],
   "source": [
    "x_test_rfe2 = x_test[col2]"
   ]
  },
  {
   "cell_type": "code",
   "execution_count": null,
   "id": "abd6bedd",
   "metadata": {},
   "outputs": [],
   "source": [
    "x_test_rfe2 = sm.add_constant(x_test_rfe2)"
   ]
  },
  {
   "cell_type": "code",
   "execution_count": null,
   "id": "1d90118d",
   "metadata": {},
   "outputs": [],
   "source": [
    "x_test_rfe2.info()"
   ]
  },
  {
   "cell_type": "code",
   "execution_count": null,
   "id": "877a80a8",
   "metadata": {},
   "outputs": [],
   "source": [
    "y_pred = lm2.predict(x_test_rfe2)"
   ]
  },
  {
   "cell_type": "code",
   "execution_count": null,
   "id": "c1b46b9e",
   "metadata": {},
   "outputs": [],
   "source": [
    "plt.figure()\n",
    "plt.scatter(y_test, y_pred)"
   ]
  },
  {
   "cell_type": "code",
   "execution_count": null,
   "id": "17ac9ab0",
   "metadata": {},
   "outputs": [],
   "source": [
    "from sklearn.metrics import r2_score\n",
    "r2_score(y_test, y_pred)"
   ]
  },
  {
   "cell_type": "code",
   "execution_count": null,
   "id": "3469671b",
   "metadata": {},
   "outputs": [],
   "source": [
    "plt.figure(figsize=(8,5))\n",
    "\n",
    "sns.heatmap(datset[col2].corr(), cmap = \"YlGnBu\", annot=True)\n",
    "plt.show()"
   ]
  }
 ],
 "metadata": {
  "kernelspec": {
   "display_name": "Python 3",
   "language": "python",
   "name": "python3"
  },
  "language_info": {
   "codemirror_mode": {
    "name": "ipython",
    "version": 3
   },
   "file_extension": ".py",
   "mimetype": "text/x-python",
   "name": "python",
   "nbconvert_exporter": "python",
   "pygments_lexer": "ipython3",
   "version": "3.13.3"
  }
 },
 "nbformat": 4,
 "nbformat_minor": 5
}
