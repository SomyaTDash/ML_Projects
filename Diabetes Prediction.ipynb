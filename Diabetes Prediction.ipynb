{
 "cells": [
  {
   "cell_type": "code",
   "execution_count": null,
   "metadata": {},
   "outputs": [],
   "source": []
  },
  {
   "cell_type": "code",
   "execution_count": null,
   "metadata": {},
   "outputs": [],
   "source": [
    "import pandas as pd\n",
    "import numpy as np\n",
    "import seaborn as sns\n",
    "import matplotlib.pyplot as plt\n",
    "%matplotlib inline\n"
   ]
  },
  {
   "cell_type": "code",
   "execution_count": null,
   "metadata": {},
   "outputs": [],
   "source": [
    "dataset=pd.read_csv(\"diabetes.csv\")  \n",
    "dataset "
   ]
  },
  {
   "cell_type": "code",
   "execution_count": null,
   "metadata": {},
   "outputs": [],
   "source": [
    "dataset.info()"
   ]
  },
  {
   "cell_type": "code",
   "execution_count": null,
   "metadata": {},
   "outputs": [],
   "source": [
    "dataset.isnull().sum()"
   ]
  },
  {
   "cell_type": "code",
   "execution_count": null,
   "metadata": {},
   "outputs": [],
   "source": [
    "dataset.describe()"
   ]
  },
  {
   "cell_type": "code",
   "execution_count": null,
   "metadata": {},
   "outputs": [],
   "source": [
    "plt.figure(figsize =(10,8))\n",
    "from matplotlib.colors import LinearSegmentedColormap\n",
    "colors = [\"yellow\", \"green\", \"blue\"]\n",
    "cmap = LinearSegmentedColormap.from_list(\"yellowgreenblue\", colors)\n",
    "sns.heatmap(dataset.corr(), annot = True, fmt=\".3f\", cmap =cmap)\n",
    "plt.title(\"Correlation Heatmap\")"
   ]
  },
  {
   "cell_type": "code",
   "execution_count": null,
   "metadata": {},
   "outputs": [],
   "source": [
    "plt.figure(figsize=(10,8))\n",
    "kde= sns.kdeplot(dataset[\"Pregnancies\"][dataset[\"Outcome\"]==1], color = \"Red\", shade = True)\n",
    "kde= sns.kdeplot(dataset[\"Pregnancies\"][dataset[\"Outcome\"]==0], color = \"Blue\", shade = True)\n",
    "kde.set_xlabel(\"Pregnancies\")\n",
    "kde.set_ylabel(\"Density\")\n",
    "kde.legend([\"Positive\"],[\"Negative\"])"
   ]
  },
  {
   "cell_type": "code",
   "execution_count": null,
   "metadata": {},
   "outputs": [],
   "source": [
    "plt.figure(figsize=(10,8))\n",
    "sns.violinplot(data=dataset,x=\"Outcome\", y=\"Glucose\", split= True, linewidth=2, inner= \"quart\")"
   ]
  },
  {
   "cell_type": "code",
   "execution_count": null,
   "metadata": {},
   "outputs": [],
   "source": [
    "plt.figure(figsize=(10,8))\n",
    "kde= sns.kdeplot(dataset[\"Glucose\"][dataset[\"Outcome\"]==1], color = \"Red\", shade = True)\n",
    "kde= sns.kdeplot(dataset[\"Glucose\"][dataset[\"Outcome\"]==0], color = \"Blue\", shade = True)\n",
    "kde.set_xlabel(\"Glucose\")\n",
    "kde.set_ylabel(\"Density\")\n",
    "kde.legend([\"Positive\"],[\"Negative\"])"
   ]
  },
  {
   "cell_type": "code",
   "execution_count": null,
   "metadata": {},
   "outputs": [],
   "source": [
    "dataset[\"Glucose\"]=dataset[\"Glucose\"].replace(0,dataset[\"Glucose\"].median())\n",
    "dataset[\"BloodPressure\"]=dataset[\"BloodPressure\"].replace(0,dataset[\"BloodPressure\"].median())\n",
    "dataset[\"BMI\"]=dataset[\"BMI\"].replace(0,dataset[\"BMI\"].median())\n",
    "dataset[\"SkinThickness\"]=dataset[\"SkinThickness\"].replace(0,dataset[\"SkinThickness\"].median())\n",
    "dataset[\"Insulin\"]=dataset[\"Insulin\"].replace(0,dataset[\"Insulin\"].median())\n",
    "dataset"
   ]
  },
  {
   "cell_type": "code",
   "execution_count": null,
   "metadata": {},
   "outputs": [],
   "source": [
    "X= dataset.drop([\"Outcome\"], axis = 1)\n",
    "Y= dataset[\"Outcome\"]\n",
    "X"
   ]
  },
  {
   "cell_type": "code",
   "execution_count": null,
   "metadata": {},
   "outputs": [],
   "source": [
    "Y"
   ]
  },
  {
   "cell_type": "code",
   "execution_count": null,
   "metadata": {},
   "outputs": [],
   "source": [
    "from sklearn.model_selection import train_test_split\n",
    "X_train,X_test,Y_train,Y_test = train_test_split(X,Y, test_size=0.33, random_state=42)\n",
    "X_train"
   ]
  },
  {
   "cell_type": "code",
   "execution_count": null,
   "metadata": {},
   "outputs": [],
   "source": [
    "from sklearn.neighbors import KNeighborsClassifier\n",
    "training_accuracy = []\n",
    "test_accuracy = []\n",
    "for n_neighbours in range(1,11):\n",
    "   knn = KNeighborsClassifier(n_neighbours*n_neighbours)\n",
    "   knn.fit(X_train,Y_train)\n",
    "   training_accuracy.append(knn.score(X_train,Y_train))\n",
    "   test_accuracy.append(knn.score(X_train,Y_train))"
   ]
  },
  {
   "cell_type": "code",
   "execution_count": null,
   "metadata": {},
   "outputs": [],
   "source": [
    "plt.plot(range(1,11), training_accuracy, label = \"training_accuracy\")\n",
    "plt.plot(range(1,11), test_accuracy, label = \"test_accuracy\")\n",
    "plt.ylabel(\"accuracy\")\n",
    "plt.xlabel(\"n_neighbours\")\n",
    "plt.legend()"
   ]
  },
  {
   "cell_type": "code",
   "execution_count": null,
   "metadata": {},
   "outputs": [],
   "source": [
    "knn = KNeighborsClassifier(n_neighbors=9)\n",
    "knn.fit(X_train,Y_train)\n",
    "print(knn.score(X_train,Y_train),\": Training Accuracy\" )\n",
    "print(knn.score(X_test,Y_test),\": Testing Accuracy\" )"
   ]
  },
  {
   "cell_type": "code",
   "execution_count": null,
   "metadata": {},
   "outputs": [],
   "source": [
    "from sklearn.tree import DecisionTreeClassifier\n",
    "dt = DecisionTreeClassifier(random_state=0)\n",
    "dt.fit(X_train,Y_train)\n",
    "print(dt.score(X_train,Y_train),\": Training Accuracy\" )\n",
    "print(dt.score(X_test,Y_test),\": Testing Accuracy\" )"
   ]
  },
  {
   "cell_type": "code",
   "execution_count": null,
   "metadata": {},
   "outputs": [],
   "source": [
    "dt1= DecisionTreeClassifier(random_state=0, max_depth=3)\n",
    "dt1.fit(X_train,Y_train)\n",
    "print(dt1.score(X_train,Y_train),\": Training Accuracy\" )\n",
    "print(dt1.score(X_test,Y_test),\": Testing Accuracy\" )"
   ]
  },
  {
   "cell_type": "code",
   "execution_count": null,
   "metadata": {},
   "outputs": [],
   "source": [
    "from sklearn.neural_network import MLPClassifier\n",
    "mlp = DecisionTreeClassifier(random_state=42)\n",
    "mlp.fit(X_train,Y_train)\n",
    "print(mlp.score(X_train,Y_train),\": Training Accuracy\" )\n",
    "print(mlp.score(X_test,Y_test),\": Testing Accuracy\" )"
   ]
  },
  {
   "cell_type": "code",
   "execution_count": null,
   "metadata": {},
   "outputs": [],
   "source": [
    "from sklearn.preprocessing import StandardScaler\n",
    "sc= StandardScaler()\n",
    "X_train_scaler= sc.fit_transform(X_train)\n",
    "X_test_scaler= sc.fit_transform(X_test)"
   ]
  },
  {
   "cell_type": "code",
   "execution_count": null,
   "metadata": {},
   "outputs": [],
   "source": [
    "mlp1= MLPClassifier(random_state=42)\n",
    "mlp1.fit(X_train_scaler,Y_train)\n",
    "print(mlp1.score(X_train_scaler,Y_train),\": Training Accuracy\" )\n",
    "print(mlp1.score(X_test,Y_test),\": Testing Accuracy\" )"
   ]
  }
 ],
 "metadata": {
  "kernelspec": {
   "display_name": "Python 3",
   "language": "python",
   "name": "python3"
  },
  "language_info": {
   "codemirror_mode": {
    "name": "ipython",
    "version": 3
   },
   "file_extension": ".py",
   "mimetype": "text/x-python",
   "name": "python",
   "nbconvert_exporter": "python",
   "pygments_lexer": "ipython3",
   "version": "3.13.1"
  }
 },
 "nbformat": 4,
 "nbformat_minor": 2
}
