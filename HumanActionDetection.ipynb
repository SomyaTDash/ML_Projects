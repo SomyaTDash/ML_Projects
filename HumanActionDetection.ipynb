{
 "cells": [
  {
   "cell_type": "code",
   "execution_count": null,
   "id": "27fa5000",
   "metadata": {},
   "outputs": [],
   "source": [
    "import numpy as np\n",
    "import pandas as pd\n",
    "import matplotlib.pyplot as plt\n",
    "import seaborn as sns"
   ]
  },
  {
   "cell_type": "code",
   "execution_count": null,
   "id": "76c683e9",
   "metadata": {},
   "outputs": [],
   "source": [
    "from sklearn.utils import resample\n",
    "from sklearn.preprocessing import LabelEncoder , RobustScaler , StandardScaler\n",
    "from sklearn.model_selection import train_test_split, GridSearchCV\n",
    "from sklearn.linear_model import LogisticRegression, Lasso, Ridge\n",
    "from sklearn.neighbors import KNeighborsClassifier\n",
    "from sklearn.ensemble import RandomForestClassifier\n",
    "from sklearn.metrics import classification_report, r2_score, accuracy_score, recall_score, precision_score, f1_score, confusion_matrix, mean_absolute_error, mean_squared_error, mean_absolute_percentage_error"
   ]
  },
  {
   "cell_type": "code",
   "execution_count": null,
   "id": "9f3a5273",
   "metadata": {},
   "outputs": [],
   "source": [
    "df = pd.read_csv(\"mHealth_subject4.csv\")"
   ]
  },
  {
   "cell_type": "code",
   "execution_count": null,
   "id": "b4322065",
   "metadata": {},
   "outputs": [],
   "source": [
    "df"
   ]
  },
  {
   "cell_type": "code",
   "execution_count": null,
   "id": "2294af34",
   "metadata": {},
   "outputs": [],
   "source": [
    "df.info()"
   ]
  },
  {
   "cell_type": "code",
   "execution_count": null,
   "id": "993af5a6",
   "metadata": {},
   "outputs": [],
   "source": [
    "df.describe().T"
   ]
  },
  {
   "cell_type": "code",
   "execution_count": null,
   "id": "ea205acd",
   "metadata": {},
   "outputs": [],
   "source": [
    "df.isnull().sum()"
   ]
  },
  {
   "cell_type": "code",
   "execution_count": null,
   "id": "f0a84019",
   "metadata": {},
   "outputs": [],
   "source": [
    "plt.figure(figsize=(10,8))\n",
    "df['Activity'].value_counts().plot.bar()\n",
    "plt.show()"
   ]
  },
  {
   "cell_type": "code",
   "execution_count": null,
   "id": "4b9dba7a",
   "metadata": {},
   "outputs": [],
   "source": [
    "df_0 = df[df['Activity'] == 0]\n",
    "df_others = df[df['Activity'] != 0]"
   ]
  },
  {
   "cell_type": "code",
   "execution_count": null,
   "id": "ccbd0cae",
   "metadata": {},
   "outputs": [],
   "source": [
    "df_0.shape, df_others.shape"
   ]
  },
  {
   "cell_type": "code",
   "execution_count": null,
   "id": "223051b1",
   "metadata": {},
   "outputs": [],
   "source": [
    "plt.figure(figsize=(10,8))\n",
    "df_others['Activity'].value_counts().plot.bar()\n",
    "plt.show()"
   ]
  },
  {
   "cell_type": "code",
   "execution_count": null,
   "id": "9553f052",
   "metadata": {},
   "outputs": [],
   "source": [
    "df_0_sample = df_0.sample(n=30000)"
   ]
  },
  {
   "cell_type": "code",
   "execution_count": null,
   "id": "ce1e602e",
   "metadata": {},
   "outputs": [],
   "source": [
    "data = pd.concat([df_0_sample, df_others])"
   ]
  },
  {
   "cell_type": "code",
   "execution_count": null,
   "id": "37a14fca",
   "metadata": {},
   "outputs": [],
   "source": [
    "data"
   ]
  },
  {
   "cell_type": "code",
   "execution_count": null,
   "id": "cf2b981b",
   "metadata": {},
   "outputs": [],
   "source": [
    "plt.figure(figure=(10,8))\n",
    "data['Activity'].value_counts().plot.bar()\n",
    "plt.show()"
   ]
  },
  {
   "cell_type": "code",
   "execution_count": null,
   "id": "f6c5ec6b",
   "metadata": {},
   "outputs": [],
   "source": [
    "activity_label = {\n",
    "L0: \"No Activity\"\n",
    "L1: \"Standing still (1 min)\",\n",
    "L2: \"Sitting and relaxing (1 min)\",\n",
    "L3: \"Lying down (1 min)\",\n",
    "L4: \"Walking (1 min)\",\n",
    "L5: \"Climbing stairs (1 min)\",\n",
    "L6: \"Waist bends forward (20x)\",\n",
    "L7: \"Frontal elevation of arms (20x)\",\n",
    "L8: \"Knees bending (crouching) (20x)\",\n",
    "L9: \"Cycling (1 min)\",\n",
    "L10: \"Jogging (1 min)\",\n",
    "L11: \"Running (1 min)\",\n",
    "L12: \"Jump front & back (20x)\"\n",
    "}"
   ]
  },
  {
   "cell_type": "code",
   "execution_count": null,
   "id": "f37461bc",
   "metadata": {},
   "outputs": [],
   "source": [
    "sub1 = df[df['subject']=='subject1']\n",
    "readings = ['a','g']\n",
    "\n",
    "for i in range(1,13):\n",
    "    for r in readings:\n",
    "        print(f\"\"\"\"\"\"\"\"\"\"\"\"\"\"\"\"\"{activity_label[i]} = {r}\"\"\"\"\"\"\"\"\"\"\"\"\"\"\"\"\")\n",
    "        plt.figure(figsize=(12,5))\n",
    "        plt.subplot(1,2,1)\n",
    "        plt.plot(sub1[sub1['Activity'] == i].reset_index(drop=True)[r + 'lx'],color = \"blue\" , alpha = 0.7 , label = r + 'lx')\n",
    "        plt.plot(sub1[sub1['Activity'] == i].reset_index(drop=True)[r + 'ly'],color = \"blue\" , alpha = 0.7 , label = r + 'ly')\n",
    "        plt.plot(sub1[sub1['Activity'] == i].reset_index(drop=True)[r + 'lz'],color = \"blue\" , alpha = 0.7 , label = r + 'lz')\n",
    "        plt.title(\"Left ankle sensor\")\n",
    "        plt.legend()\n",
    "\n",
    "        plt.subplot(1,2,1)\n",
    "        plt.plot(sub1[sub1['Activity'] == i].reset_index(drop=True)[r + 'lx'],color = \"blue\" , alpha = 0.7 , label = r + 'lx')\n",
    "        plt.plot(sub1[sub1['Activity'] == i].reset_index(drop=True)[r + 'ly'],color = \"blue\" , alpha = 0.7 , label = r + 'ly')\n",
    "        plt.plot(sub1[sub1['Activity'] == i].reset_index(drop=True)[r + 'lz'],color = \"blue\" , alpha = 0.7 , label = r + 'lz')\n",
    "        plt.title(\"Right wrist sensor\")\n",
    "        plt.legend()\n",
    "        plt.show()"
   ]
  },
  {
   "cell_type": "code",
   "execution_count": null,
   "id": "0be16189",
   "metadata": {},
   "outputs": [],
   "source": [
    "data[\"Activity\"] = data[\"Activity\"].replace([0,1,2,3,4,5,6,7,8,9,10,11,12]),[\n",
    " \"No Activity\"\n",
    " \"Standing still (1 min)\",\n",
    " \"Sitting and relaxing (1 min)\",\n",
    " \"Lying down (1 min)\",\n",
    " \"Walking (1 min)\",\n",
    " \"Climbing stairs (1 min)\",\n",
    " \"Waist bends forward (20x)\",\n",
    " \"Frontal elevation of arms (20x)\",\n",
    " \"Knees bending (crouching) (20x)\",\n",
    " \"Cycling (1 min)\",\n",
    " \"Jogging (1 min)\",\n",
    " \"Running (1 min)\",\n",
    " \"Jump front & back (20x)\"\n",
    "]\n"
   ]
  },
  {
   "cell_type": "code",
   "execution_count": null,
   "id": "35b7653f",
   "metadata": {},
   "outputs": [],
   "source": [
    "data"
   ]
  },
  {
   "cell_type": "code",
   "execution_count": null,
   "id": "02dee862",
   "metadata": {},
   "outputs": [],
   "source": [
    "df1 = data.copy()\n",
    "\n",
    "for feature in df1.columns[:-2]:\n",
    "    lower_range = np.quantile(df[feature], 0.01)\n",
    "    upper_range = np.quantile(df[feature], 0.99)\n",
    "    print(feature, 'range:', lower_range, '-', upper_range)\n",
    "\n",
    "    df1 = df1.drop(df1[(df1[feature] > upper_range) | (df1[feature] < lower_range)].index, axis = 0)\n",
    "    print('shape' , df1.shape)"
   ]
  },
  {
   "cell_type": "code",
   "execution_count": null,
   "id": "6200fc56",
   "metadata": {},
   "outputs": [],
   "source": [
    "le = LabelEncoder()"
   ]
  },
  {
   "cell_type": "code",
   "execution_count": null,
   "id": "34b93c72",
   "metadata": {},
   "outputs": [],
   "source": [
    "df['subject'] = le.fit_transform(df['subject'])"
   ]
  },
  {
   "cell_type": "code",
   "execution_count": null,
   "id": "37d04086",
   "metadata": {},
   "outputs": [],
   "source": [
    "df1.dtypes"
   ]
  },
  {
   "cell_type": "code",
   "execution_count": null,
   "id": "7f592cd5",
   "metadata": {},
   "outputs": [],
   "source": [
    "df1['Activity'] = le.fit_transform(df1['Activity'])"
   ]
  },
  {
   "cell_type": "code",
   "execution_count": null,
   "id": "a164a45d",
   "metadata": {},
   "outputs": [],
   "source": [
    "df.plot(kind='box' , subplots=True, layout = (5,5), figsize=(20,15))"
   ]
  },
  {
   "cell_type": "code",
   "execution_count": null,
   "id": "38a3e3c1",
   "metadata": {},
   "outputs": [],
   "source": [
    "X = df1.drop([\"Activity\", \"subject\"], axis = 1).values\n",
    "Y = df1[\"Activity\"].values"
   ]
  },
  {
   "cell_type": "code",
   "execution_count": null,
   "id": "8bf3801f",
   "metadata": {},
   "outputs": [],
   "source": [
    "X_train, X_test, Y_train, Y_test = train_test_split(X, Y, test_size=0.25)"
   ]
  },
  {
   "cell_type": "code",
   "execution_count": null,
   "id": "128173d8",
   "metadata": {},
   "outputs": [],
   "source": [
    "ro_scaler = RobustScaler().fit(X_train)"
   ]
  },
  {
   "cell_type": "code",
   "execution_count": null,
   "id": "6b8164ba",
   "metadata": {},
   "outputs": [],
   "source": [
    "X_train_sc = ro_scaler.transform(X_train)\n",
    "X_test = ro_scaler.transform(X_test)"
   ]
  },
  {
   "cell_type": "code",
   "execution_count": null,
   "id": "6cb239ef",
   "metadata": {},
   "outputs": [],
   "source": [
    "def resultsSummarizer(Y_true, Y_pred, cm_en=True):\n",
    "    cm= confusion_matrix(Y_true, Y_pred)\n",
    "    acc = accuracy_score(Y_true, Y_pred)\n",
    "    prec = precision_score(Y_true, Y_pred, average='macro')\n",
    "    rec, sensitivity = recall_score(Y_true, Y_pred, average='macro')\n",
    "    f1 = f1_score(Y_true, Y_pred, average='macro')\n",
    "\n",
    "    if cm_en:\n",
    "        plt.Figure(figsize=(15,15))\n",
    "\n",
    "        sns.heatmap(cm, annot= True, cmap= \"Blues\" , xticklabels=activity_label.values(), yticklabels=activity_label.values())\n",
    "\n",
    "        plt.title(\"Confusion Matrix\")\n",
    "        plt.show()\n",
    "\n",
    "    print(f\"Accuracy Score: \" + \"(:.4%)\".format(acc))\n",
    "    print(f\"Precision Score: \" + \"(:.4%)\".format(prec))\n",
    "    print(f\"Recall Score: \" + \"(:.4%)\".format(rec))\n",
    "    print(f\"F1 Score: \" + \"(:.4%)\".format(f1))"
   ]
  },
  {
   "cell_type": "code",
   "execution_count": null,
   "id": "c46f13a0",
   "metadata": {},
   "outputs": [],
   "source": [
    "lr = LogisticRegression()\n",
    "lr.fit(X_train, Y_train)\n",
    "lr.score(X_train, Y_train), lr.score(X_test,Y_test)"
   ]
  },
  {
   "cell_type": "code",
   "execution_count": null,
   "id": "d72781b5",
   "metadata": {},
   "outputs": [],
   "source": [
    "lr2 = LogisticRegression()\n",
    "lr2.fit(X_train_sc, Y_train)\n",
    "lr2.score(X_train, Y_train), lr.score(X_test,Y_test)"
   ]
  },
  {
   "cell_type": "code",
   "execution_count": null,
   "id": "23579983",
   "metadata": {},
   "outputs": [],
   "source": [
    "Y_pred_lr = lr2.predict(X_test_scaled)"
   ]
  },
  {
   "cell_type": "code",
   "execution_count": null,
   "id": "fe4b0515",
   "metadata": {},
   "outputs": [],
   "source": [
    "resultsSummarizer(Y_test, Y_pred_lr)"
   ]
  },
  {
   "cell_type": "code",
   "execution_count": null,
   "id": "690ed324",
   "metadata": {},
   "outputs": [],
   "source": [
    "model = Lasso()\n",
    "model.fit(X_train_sc, Y_train)\n",
    "model.score(X_train_sc, Y_train), model.score(X_test_sc, Y_test)"
   ]
  },
  {
   "cell_type": "code",
   "execution_count": null,
   "id": "cc3872ad",
   "metadata": {},
   "outputs": [],
   "source": [
    "model = Ridge()\n",
    "model.fit(X_train_sc, Y_train)\n",
    "model.score(X_train_sc, Y_train), model.score(X_test_sc, Y_test)"
   ]
  },
  {
   "cell_type": "code",
   "execution_count": null,
   "id": "76c65c17",
   "metadata": {},
   "outputs": [],
   "source": [
    "model = KNeighborsClassifier(n_neighbors=5)\n",
    "model.fit(X_train, Y_train)\n",
    "model.score(X_train, Y_train), model.score(X_test, Y_test)"
   ]
  },
  {
   "cell_type": "code",
   "execution_count": null,
   "id": "4cfdd3e6",
   "metadata": {},
   "outputs": [],
   "source": [
    "model = KNeighborsClassifier(n_neighbors=5)\n",
    "model.fit(X_train_sc, Y_train)\n",
    "model.score(X_train_sc, Y_train), model.score(X_test_sc, Y_test)"
   ]
  },
  {
   "cell_type": "code",
   "execution_count": null,
   "id": "ed3e4ece",
   "metadata": {},
   "outputs": [],
   "source": [
    "model = RandomForestClassifier()\n",
    "model.fit(X_train_sc, Y_train)\n",
    "model.score(X_train_sc, Y_train), model.score(X_test_sc, Y_test)"
   ]
  },
  {
   "cell_type": "code",
   "execution_count": null,
   "id": "9769f4ba",
   "metadata": {},
   "outputs": [],
   "source": [
    "Y_pred = model.predict(X_test_sc)"
   ]
  },
  {
   "cell_type": "code",
   "execution_count": null,
   "id": "519ee9a8",
   "metadata": {},
   "outputs": [],
   "source": [
    "Y_pred"
   ]
  },
  {
   "cell_type": "code",
   "execution_count": null,
   "id": "176acd5e",
   "metadata": {},
   "outputs": [],
   "source": [
    "Y_test"
   ]
  },
  {
   "cell_type": "code",
   "execution_count": null,
   "id": "617eeff3",
   "metadata": {},
   "outputs": [],
   "source": [
    "knn2 = KNeighborsClassifier(n_neighbors=5)\n",
    "knn2.fit(X_train,Y_train)"
   ]
  },
  {
   "cell_type": "code",
   "execution_count": null,
   "id": "06c0182d",
   "metadata": {},
   "outputs": [],
   "source": [
    "y_pred_knn = knn2.predict(X_test)"
   ]
  },
  {
   "cell_type": "code",
   "execution_count": null,
   "id": "a7951ff1",
   "metadata": {},
   "outputs": [],
   "source": [
    "resultsSummarizer(Y_test, y_pred_knn2, cm_en=False)"
   ]
  },
  {
   "cell_type": "code",
   "execution_count": null,
   "id": "3f5978d5",
   "metadata": {},
   "outputs": [],
   "source": [
    "for n in range(1,11):\n",
    "    knn1 = KNeighborsClassifier(n_neighbors=n)\n",
    "    knn1.fit(X_train_scaled, Y_train)\n",
    "    Y_pred = knn.predict(X_test_scaled)\n",
    "    print(F\"\\n\"\"\"\"\"\"\"\"\"\"No of Neighbours: {n}\"\"\"\"\"\"\"\"\"\"\\n\")\n",
    "    resultsSummarizer(Y_test, y_pred, cm_en=False)"
   ]
  },
  {
   "cell_type": "code",
   "execution_count": null,
   "id": "b03ce884",
   "metadata": {},
   "outputs": [],
   "source": [
    "dt = DecisionTreeClassifier(max_mdepth=14)\n",
    "dt.fit(X_train,Y_train)\n",
    "y_pred_dt = dt.predict(X_test)\n",
    "resultsSummarizer(Y_test,y_pred_dt)"
   ]
  }
 ],
 "metadata": {
  "kernelspec": {
   "display_name": "Python 3",
   "language": "python",
   "name": "python3"
  },
  "language_info": {
   "codemirror_mode": {
    "name": "ipython",
    "version": 3
   },
   "file_extension": ".py",
   "mimetype": "text/x-python",
   "name": "python",
   "nbconvert_exporter": "python",
   "pygments_lexer": "ipython3",
   "version": "3.13.3"
  }
 },
 "nbformat": 4,
 "nbformat_minor": 5
}
