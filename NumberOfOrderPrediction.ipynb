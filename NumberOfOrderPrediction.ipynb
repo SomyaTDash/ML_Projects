{
 "cells": [
  {
   "cell_type": "code",
   "execution_count": null,
   "id": "eb95f295",
   "metadata": {},
   "outputs": [],
   "source": [
    "import pandas as pd\n",
    "import numpy as np"
   ]
  },
  {
   "cell_type": "code",
   "execution_count": null,
   "id": "d0e34da3",
   "metadata": {},
   "outputs": [],
   "source": [
    "dataset = pd.read_csv(\"TRAIN.csv\")\n",
    "dataset"
   ]
  },
  {
   "cell_type": "code",
   "execution_count": null,
   "id": "17657b4d",
   "metadata": {},
   "outputs": [],
   "source": [
    "dataset.info()"
   ]
  },
  {
   "cell_type": "code",
   "execution_count": null,
   "id": "68347b2f",
   "metadata": {},
   "outputs": [],
   "source": [
    "dataset.isnull().sum()"
   ]
  },
  {
   "cell_type": "code",
   "execution_count": null,
   "id": "8aeb8fac",
   "metadata": {},
   "outputs": [],
   "source": [
    "dataset.describe()"
   ]
  },
  {
   "cell_type": "code",
   "execution_count": null,
   "id": "c1e97ef4",
   "metadata": {},
   "outputs": [],
   "source": [
    "import plotly.express as px"
   ]
  },
  {
   "cell_type": "code",
   "execution_count": null,
   "id": "1f404bfb",
   "metadata": {},
   "outputs": [],
   "source": [
    "pie = dataset[\"Store_Type\"].value_counts()\n",
    "store = pie.index\n",
    "orders = pie.values\n",
    "fig = px.pie(dataset, values=orders, names=store)\n",
    "fig.show()"
   ]
  },
  {
   "cell_type": "code",
   "execution_count": null,
   "id": "74819e48",
   "metadata": {},
   "outputs": [],
   "source": [
    "pie1 = dataset[\"Location_Type\"].value_counts()\n",
    "location = pie1.index\n",
    "orders = pie1.values\n",
    "\n",
    "fig = px.pie1(dataset, values=orders, names=location)\n",
    "fig.show()"
   ]
  },
  {
   "cell_type": "code",
   "execution_count": null,
   "id": "e9fa1829",
   "metadata": {},
   "outputs": [],
   "source": [
    "pie2 = dataset[\"Discount\"].value_counts()\n",
    "discount = pie2.index\n",
    "orders = pie2.values\n",
    "\n",
    "fig = px.pie2(dataset, values=orders, names=discount)\n",
    "fig.show()"
   ]
  },
  {
   "cell_type": "code",
   "execution_count": null,
   "id": "19da6106",
   "metadata": {},
   "outputs": [],
   "source": [
    "pie3 = dataset[\"Holiday\"].value_counts()\n",
    "holiday = pie3.index\n",
    "orders = pie3.values\n",
    "\n",
    "fig = px.pie3(dataset, values=orders, names=holiday)\n",
    "fig.show()"
   ]
  },
  {
   "cell_type": "code",
   "execution_count": null,
   "id": "72abedf8",
   "metadata": {},
   "outputs": [],
   "source": [
    "dataset[\"Discount\"] = dataset[\"Discount\"].map({\"No\":0, \"Yes\":1})"
   ]
  },
  {
   "cell_type": "code",
   "execution_count": null,
   "id": "13e314c6",
   "metadata": {},
   "outputs": [],
   "source": [
    "dataset"
   ]
  },
  {
   "cell_type": "code",
   "execution_count": null,
   "id": "ad29bdb1",
   "metadata": {},
   "outputs": [],
   "source": [
    "dataset[\"Store_Type\"] = dataset[\"Store_Type\"].map({\"S1\":1,\"S2\":2,\"S3\":3,\"S4\":4})"
   ]
  },
  {
   "cell_type": "code",
   "execution_count": null,
   "id": "47928297",
   "metadata": {},
   "outputs": [],
   "source": [
    "dataset[\"Location_Type\"] = dataset[\"Location_Type\"].map({\"L1\":1,\"L2\":2,\"L3\":3,\"L4\":4,\"L5\":5})"
   ]
  },
  {
   "cell_type": "code",
   "execution_count": null,
   "id": "1940e98f",
   "metadata": {},
   "outputs": [],
   "source": [
    "X = np.array(dataset[[\"Store_Type\",\"Location_Type\",\"Holiday\",\"Discount\"]])\n",
    "Y = np.array(dataset[\"#Order\"])"
   ]
  },
  {
   "cell_type": "code",
   "execution_count": null,
   "id": "d2c57457",
   "metadata": {},
   "outputs": [],
   "source": [
    "X"
   ]
  },
  {
   "cell_type": "code",
   "execution_count": null,
   "id": "8e0f3a9c",
   "metadata": {},
   "outputs": [],
   "source": [
    "Y"
   ]
  },
  {
   "cell_type": "code",
   "execution_count": null,
   "id": "7da65d1f",
   "metadata": {},
   "outputs": [],
   "source": [
    "from sklearn.model_selection import train_test_split"
   ]
  },
  {
   "cell_type": "code",
   "execution_count": null,
   "id": "77e10ed9",
   "metadata": {},
   "outputs": [],
   "source": [
    "X_train, X_test, Y_train, Y_test = train_test_split(X, Y, test_size=0.2, random_state = 42)"
   ]
  },
  {
   "cell_type": "code",
   "execution_count": null,
   "id": "8b720d44",
   "metadata": {},
   "outputs": [],
   "source": [
    "import lightgbm as ltb\n",
    "model = ltb.LGBMRegressor()"
   ]
  },
  {
   "cell_type": "code",
   "execution_count": null,
   "id": "62c00494",
   "metadata": {},
   "outputs": [],
   "source": [
    "model.fit(X_train, Y_train)"
   ]
  },
  {
   "cell_type": "code",
   "execution_count": null,
   "id": "8e9dab9a",
   "metadata": {},
   "outputs": [],
   "source": [
    "Y_pred= model.predict(X_test)"
   ]
  },
  {
   "cell_type": "code",
   "execution_count": null,
   "id": "8a52ae38",
   "metadata": {},
   "outputs": [],
   "source": [
    "Y_pred"
   ]
  },
  {
   "cell_type": "code",
   "execution_count": null,
   "id": "6d85bbc3",
   "metadata": {},
   "outputs": [],
   "source": [
    "data = pd.DataFrame(data={\"Predicted Orders\": Y_pred.flatten()})"
   ]
  },
  {
   "cell_type": "code",
   "execution_count": null,
   "id": "a4ae2789",
   "metadata": {},
   "outputs": [],
   "source": [
    "data"
   ]
  }
 ],
 "metadata": {
  "kernelspec": {
   "display_name": "Python 3",
   "language": "python",
   "name": "python3"
  },
  "language_info": {
   "codemirror_mode": {
    "name": "ipython",
    "version": 3
   },
   "file_extension": ".py",
   "mimetype": "text/x-python",
   "name": "python",
   "nbconvert_exporter": "python",
   "pygments_lexer": "ipython3",
   "version": "3.13.3"
  }
 },
 "nbformat": 4,
 "nbformat_minor": 5
}
